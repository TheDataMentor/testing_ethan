{
 "cells": [
  {
   "cell_type": "code",
   "execution_count": 1,
   "metadata": {},
   "outputs": [
    {
     "data": {
      "text/plain": [
       "'Hello'"
      ]
     },
     "execution_count": 1,
     "metadata": {},
     "output_type": "execute_result"
    }
   ],
   "source": [
    "# Return a new string with a capitalized first character.\n",
    "'hello'.capitalize()\n"
   ]
  },
  {
   "cell_type": "code",
   "execution_count": 2,
   "metadata": {},
   "outputs": [
    {
     "name": "stdout",
     "output_type": "stream",
     "text": [
      "Hello\n"
     ]
    }
   ],
   "source": [
    "# As you read through these make a guess about what the result\n",
    "# will be, then check your guess by `print()`ing each statement\n",
    "# and running the code.\n",
    "print('hello'.capitalize())"
   ]
  },
  {
   "cell_type": "code",
   "execution_count": 4,
   "metadata": {},
   "outputs": [
    {
     "name": "stdout",
     "output_type": "stream",
     "text": [
      "hello\n"
     ]
    },
    {
     "data": {
      "text/plain": [
       "'world'"
      ]
     },
     "execution_count": 4,
     "metadata": {},
     "output_type": "execute_result"
    }
   ],
   "source": [
    "# Return a new string where all characters are lower case\n",
    "print('Hello'.lower())\n",
    "'WORLD'.lower()"
   ]
  },
  {
   "cell_type": "code",
   "execution_count": 7,
   "metadata": {},
   "outputs": [
    {
     "data": {
      "text/plain": [
       "True"
      ]
     },
     "execution_count": 7,
     "metadata": {},
     "output_type": "execute_result"
    }
   ],
   "source": [
    "# Check whether all characters are numeric.\n",
    "'1337'.isdecimal()\n",
    "#'p2p'.isdecimal()"
   ]
  },
  {
   "cell_type": "code",
   "execution_count": 8,
   "metadata": {},
   "outputs": [
    {
     "data": {
      "text/plain": [
       "True"
      ]
     },
     "execution_count": 8,
     "metadata": {},
     "output_type": "execute_result"
    }
   ],
   "source": [
    "# Check the end of a string.\n",
    "'hello'.endswith('o')"
   ]
  },
  {
   "cell_type": "code",
   "execution_count": 9,
   "metadata": {},
   "outputs": [
    {
     "data": {
      "text/plain": [
       "['The', 'quick', 'brown', 'fox']"
      ]
     },
     "execution_count": 9,
     "metadata": {},
     "output_type": "execute_result"
    }
   ],
   "source": [
    "# Split a string into a list of strings at each instance of a\n",
    "# substring.\n",
    "'The-quick-brown-fox'.split('-')"
   ]
  },
  {
   "cell_type": "code",
   "execution_count": 12,
   "metadata": {},
   "outputs": [
    {
     "data": {
      "text/plain": [
       "'The=quick=brown=fox'"
      ]
     },
     "execution_count": 12,
     "metadata": {},
     "output_type": "execute_result"
    }
   ],
   "source": [
    "# Join a list of strings into one single string. Try passing a\n",
    "# different string into this method.\n",
    "'='.join(['The', 'quick', 'brown', 'fox'])"
   ]
  },
  {
   "cell_type": "code",
   "execution_count": 13,
   "metadata": {},
   "outputs": [],
   "source": [
    "test = range(10)"
   ]
  },
  {
   "cell_type": "code",
   "execution_count": 14,
   "metadata": {},
   "outputs": [
    {
     "data": {
      "text/plain": [
       "range(0, 10)"
      ]
     },
     "execution_count": 14,
     "metadata": {},
     "output_type": "execute_result"
    }
   ],
   "source": [
    "test"
   ]
  },
  {
   "cell_type": "code",
   "execution_count": 15,
   "metadata": {},
   "outputs": [
    {
     "name": "stdout",
     "output_type": "stream",
     "text": [
      "range(0, 10)\n"
     ]
    }
   ],
   "source": [
    "print(test)"
   ]
  },
  {
   "cell_type": "code",
   "execution_count": 18,
   "metadata": {},
   "outputs": [],
   "source": [
    "def multiply(a, b):\n",
    "    return a * b\n",
    "    \n",
    " "
   ]
  },
  {
   "cell_type": "code",
   "execution_count": 19,
   "metadata": {},
   "outputs": [
    {
     "data": {
      "text/plain": [
       "2"
      ]
     },
     "execution_count": 19,
     "metadata": {},
     "output_type": "execute_result"
    }
   ],
   "source": [
    "multiply(2,1)"
   ]
  },
  {
   "cell_type": "code",
   "execution_count": 20,
   "metadata": {},
   "outputs": [],
   "source": [
    "create_phone_number([1, 2, 3, 4, 5, 6, 7, 8, 9, 0]) # => returns \"(123) 456-7890\""
   ]
  },
  {
   "cell_type": "code",
   "execution_count": 27,
   "metadata": {},
   "outputs": [],
   "source": [
    "phone = '123456789'"
   ]
  },
  {
   "cell_type": "code",
   "execution_count": 38,
   "metadata": {},
   "outputs": [],
   "source": [
    "p1 = phone[0:3]"
   ]
  },
  {
   "cell_type": "code",
   "execution_count": 39,
   "metadata": {},
   "outputs": [],
   "source": [
    "p2 = phone[3:6]"
   ]
  },
  {
   "cell_type": "code",
   "execution_count": 40,
   "metadata": {},
   "outputs": [],
   "source": [
    "p3 = phone[6:9]"
   ]
  },
  {
   "cell_type": "code",
   "execution_count": 41,
   "metadata": {},
   "outputs": [
    {
     "data": {
      "text/plain": [
       "'123456'"
      ]
     },
     "execution_count": 41,
     "metadata": {},
     "output_type": "execute_result"
    }
   ],
   "source": [
    "p1+p2"
   ]
  },
  {
   "cell_type": "code",
   "execution_count": 44,
   "metadata": {},
   "outputs": [
    {
     "data": {
      "text/plain": [
       "'(123) 456-789'"
      ]
     },
     "execution_count": 44,
     "metadata": {},
     "output_type": "execute_result"
    }
   ],
   "source": [
    "str('(')+p1+str(')')+' ' +p2+'-'+p3"
   ]
  },
  {
   "cell_type": "code",
   "execution_count": 2,
   "metadata": {},
   "outputs": [],
   "source": [
    "def phone(a):\n",
    "    print('Enter a 10 digit phone number:')\n",
    "    x = input()\n",
    "    if len(str(a)) != 10:\n",
    "        print('Try Again')\n",
    "    else:\n",
    "        phone = str(a)\n",
    "        p1 = phone[0:3]\n",
    "        p2 = phone[3:6]\n",
    "        p3 = phone[6:9]\n",
    "    x = input()\n",
    "    return str('(')+p1+str(')')+' ' +p2+'-'+p3+''\n"
   ]
  },
  {
   "cell_type": "code",
   "execution_count": 6,
   "metadata": {},
   "outputs": [],
   "source": [
    "phone = ''\n",
    "def phone(a):\n",
    "    global phone\n",
    "    print('Enter a 10 digit phone number:')\n",
    "    x = input()\n",
    "    if len(str(a)) != 10:\n",
    "        print('Try Again')\n",
    "    else:\n",
    "        phone = str(a)\n",
    "    x = input()\n",
    "    return str('(')+phone[0:3]+str(')')+' ' +phone[3:6]+'-'+phone[6:9]+''\n"
   ]
  },
  {
   "cell_type": "code",
   "execution_count": 7,
   "metadata": {
    "scrolled": true
   },
   "outputs": [
    {
     "name": "stdout",
     "output_type": "stream",
     "text": [
      "Enter a 10 digit phone number:\n",
      "32423434534\n",
      "Try Again\n",
      "1234567890\n"
     ]
    },
    {
     "ename": "TypeError",
     "evalue": "'function' object is not subscriptable",
     "output_type": "error",
     "traceback": [
      "\u001b[1;31m---------------------------------------------------------------------------\u001b[0m",
      "\u001b[1;31mTypeError\u001b[0m                                 Traceback (most recent call last)",
      "\u001b[1;32m<ipython-input-7-3f16c0b72e33>\u001b[0m in \u001b[0;36m<module>\u001b[1;34m\u001b[0m\n\u001b[1;32m----> 1\u001b[1;33m \u001b[0mphone\u001b[0m\u001b[1;33m(\u001b[0m\u001b[1;36m12345693592\u001b[0m\u001b[1;33m)\u001b[0m\u001b[1;33m\u001b[0m\u001b[1;33m\u001b[0m\u001b[0m\n\u001b[0m",
      "\u001b[1;32m<ipython-input-6-6f2af99840d4>\u001b[0m in \u001b[0;36mphone\u001b[1;34m(a)\u001b[0m\n\u001b[0;32m      9\u001b[0m         \u001b[0mphone\u001b[0m \u001b[1;33m=\u001b[0m \u001b[0mstr\u001b[0m\u001b[1;33m(\u001b[0m\u001b[0ma\u001b[0m\u001b[1;33m)\u001b[0m\u001b[1;33m\u001b[0m\u001b[1;33m\u001b[0m\u001b[0m\n\u001b[0;32m     10\u001b[0m     \u001b[0mx\u001b[0m \u001b[1;33m=\u001b[0m \u001b[0minput\u001b[0m\u001b[1;33m(\u001b[0m\u001b[1;33m)\u001b[0m\u001b[1;33m\u001b[0m\u001b[1;33m\u001b[0m\u001b[0m\n\u001b[1;32m---> 11\u001b[1;33m     \u001b[1;32mreturn\u001b[0m \u001b[0mstr\u001b[0m\u001b[1;33m(\u001b[0m\u001b[1;34m'('\u001b[0m\u001b[1;33m)\u001b[0m\u001b[1;33m+\u001b[0m\u001b[0mphone\u001b[0m\u001b[1;33m[\u001b[0m\u001b[1;36m0\u001b[0m\u001b[1;33m:\u001b[0m\u001b[1;36m3\u001b[0m\u001b[1;33m]\u001b[0m\u001b[1;33m+\u001b[0m\u001b[0mstr\u001b[0m\u001b[1;33m(\u001b[0m\u001b[1;34m')'\u001b[0m\u001b[1;33m)\u001b[0m\u001b[1;33m+\u001b[0m\u001b[1;34m' '\u001b[0m \u001b[1;33m+\u001b[0m\u001b[0mphone\u001b[0m\u001b[1;33m[\u001b[0m\u001b[1;36m3\u001b[0m\u001b[1;33m:\u001b[0m\u001b[1;36m6\u001b[0m\u001b[1;33m]\u001b[0m\u001b[1;33m+\u001b[0m\u001b[1;34m'-'\u001b[0m\u001b[1;33m+\u001b[0m\u001b[0mphone\u001b[0m\u001b[1;33m[\u001b[0m\u001b[1;36m6\u001b[0m\u001b[1;33m:\u001b[0m\u001b[1;36m9\u001b[0m\u001b[1;33m]\u001b[0m\u001b[1;33m+\u001b[0m\u001b[1;34m''\u001b[0m\u001b[1;33m\u001b[0m\u001b[1;33m\u001b[0m\u001b[0m\n\u001b[0m",
      "\u001b[1;31mTypeError\u001b[0m: 'function' object is not subscriptable"
     ]
    }
   ],
   "source": [
    "phone(12345693592)"
   ]
  },
  {
   "cell_type": "code",
   "execution_count": 19,
   "metadata": {},
   "outputs": [
    {
     "name": "stdout",
     "output_type": "stream",
     "text": [
      "\n",
      "\n",
      "Recursion Example Results\n",
      "1\n",
      "3\n",
      "6\n"
     ]
    },
    {
     "data": {
      "text/plain": [
       "6"
      ]
     },
     "execution_count": 19,
     "metadata": {},
     "output_type": "execute_result"
    }
   ],
   "source": [
    "def tri_recursion(k):\n",
    "  if(k>0):\n",
    "    result = k+tri_recursion(k-1)\n",
    "    print(result)\n",
    "  else:\n",
    "    result = 0\n",
    "  return result\n",
    "\n",
    "print(\"\\n\\nRecursion Example Results\")\n",
    "tri_recursion(3)\n"
   ]
  },
  {
   "cell_type": "code",
   "execution_count": 46,
   "metadata": {},
   "outputs": [],
   "source": [
    "def quotable(name, quote):\n",
    "    return name +' said: '+'\"' +quote + '\"'"
   ]
  },
  {
   "cell_type": "code",
   "execution_count": 47,
   "metadata": {},
   "outputs": [],
   "source": [
    "name = 'Grea'"
   ]
  },
  {
   "cell_type": "code",
   "execution_count": 48,
   "metadata": {},
   "outputs": [],
   "source": [
    "quote = 'Practice makes perfect'"
   ]
  },
  {
   "cell_type": "code",
   "execution_count": 49,
   "metadata": {},
   "outputs": [
    {
     "data": {
      "text/plain": [
       "'Grea said: \"Practice makes perfect\"'"
      ]
     },
     "execution_count": 49,
     "metadata": {},
     "output_type": "execute_result"
    }
   ],
   "source": [
    "quotable(name,quote)"
   ]
  },
  {
   "cell_type": "code",
   "execution_count": 52,
   "metadata": {},
   "outputs": [
    {
     "data": {
      "text/plain": [
       "0"
      ]
     },
     "execution_count": 52,
     "metadata": {},
     "output_type": "execute_result"
    }
   ],
   "source": [
    "import string\n",
    "string.ascii_lowercase.index('a')"
   ]
  },
  {
   "cell_type": "code",
   "execution_count": 60,
   "metadata": {},
   "outputs": [],
   "source": [
    "def hello(string):\n",
    "    print( 'Hello, '+ string)"
   ]
  },
  {
   "cell_type": "code",
   "execution_count": 61,
   "metadata": {},
   "outputs": [
    {
     "ename": "NameError",
     "evalue": "name 'rand' is not defined",
     "output_type": "error",
     "traceback": [
      "\u001b[1;31m---------------------------------------------------------------------------\u001b[0m",
      "\u001b[1;31mNameError\u001b[0m                                 Traceback (most recent call last)",
      "\u001b[1;32m<ipython-input-61-10c84ea45558>\u001b[0m in \u001b[0;36m<module>\u001b[1;34m\u001b[0m\n\u001b[1;32m----> 1\u001b[1;33m \u001b[0mhello\u001b[0m\u001b[1;33m(\u001b[0m\u001b[0mrand\u001b[0m\u001b[1;33m)\u001b[0m\u001b[1;33m\u001b[0m\u001b[1;33m\u001b[0m\u001b[0m\n\u001b[0m",
      "\u001b[1;31mNameError\u001b[0m: name 'rand' is not defined"
     ]
    }
   ],
   "source": [
    "hello(rand)"
   ]
  },
  {
   "cell_type": "code",
   "execution_count": 1,
   "metadata": {},
   "outputs": [],
   "source": [
    "# create a function  to return the sentence all caps\n",
    "quote = 'I went running last night and it was dope'"
   ]
  },
  {
   "cell_type": "code",
   "execution_count": 14,
   "metadata": {},
   "outputs": [],
   "source": [
    "def toJadenCase(string):\n",
    "    return  \" \".join(w.capitalize() for w in quote.split())"
   ]
  },
  {
   "cell_type": "code",
   "execution_count": 15,
   "metadata": {},
   "outputs": [
    {
     "data": {
      "text/plain": [
       "'I Went Running Last Night And It Was Dope'"
      ]
     },
     "execution_count": 15,
     "metadata": {},
     "output_type": "execute_result"
    }
   ],
   "source": [
    "toJadenCase(quote)"
   ]
  },
  {
   "cell_type": "code",
   "execution_count": 16,
   "metadata": {},
   "outputs": [
    {
     "data": {
      "text/plain": [
       "['I', 'went', 'running', 'last', 'night', 'and', 'it', 'was', 'dope']"
      ]
     },
     "execution_count": 16,
     "metadata": {},
     "output_type": "execute_result"
    }
   ],
   "source": [
    "quote.split()"
   ]
  },
  {
   "cell_type": "code",
   "execution_count": 13,
   "metadata": {},
   "outputs": [
    {
     "data": {
      "text/plain": [
       "'I Went Running Last Night And It Was Dope'"
      ]
     },
     "execution_count": 13,
     "metadata": {},
     "output_type": "execute_result"
    }
   ],
   "source": [
    "\" \".join(w.capitalize() for w in quote.split())"
   ]
  },
  {
   "cell_type": "code",
   "execution_count": 19,
   "metadata": {},
   "outputs": [
    {
     "data": {
      "text/plain": [
       "'\\nYour task is to sort a given string. Each word in the string will contain a single number. This number is the position the word should have in the result.\\nNote: Numbers can be from 1 to 9. So 1 will be the first word (not 0).\\nIf the input string is empty, return an empty string. The words in the input String will only contain valid consecutive numbers.\\n'"
      ]
     },
     "execution_count": 19,
     "metadata": {},
     "output_type": "execute_result"
    }
   ],
   "source": [
    "\n",
    "'''\n",
    "Your task is to sort a given string. Each word in the string will contain a single number. This number is the position the word should have in the result.\n",
    "Note: Numbers can be from 1 to 9. So 1 will be the first word (not 0).\n",
    "If the input string is empty, return an empty string. The words in the input String will only contain valid consecutive numbers.\n",
    "'''\n"
   ]
  },
  {
   "cell_type": "code",
   "execution_count": 41,
   "metadata": {},
   "outputs": [],
   "source": [
    "def my_add(a, b):\n",
    "    \"\"\" asdofinefoinsdsdifnsoiedn \"\"\"\n",
    "    try:\n",
    "\n",
    "        return a + b\n",
    "\n",
    "    except TypeError:\n",
    "\n",
    "        return 'type-error'"
   ]
  },
  {
   "cell_type": "code",
   "execution_count": 25,
   "metadata": {},
   "outputs": [
    {
     "data": {
      "text/plain": [
       "'type-error'"
      ]
     },
     "execution_count": 25,
     "metadata": {},
     "output_type": "execute_result"
    }
   ],
   "source": [
    "my_add('but',2)"
   ]
  },
  {
   "cell_type": "code",
   "execution_count": 26,
   "metadata": {},
   "outputs": [
    {
     "name": "stderr",
     "output_type": "stream",
     "text": [
      "'ls' is not recognized as an internal or external command,\n",
      "operable program or batch file.\n"
     ]
    }
   ],
   "source": [
    "!ls ../in"
   ]
  },
  {
   "cell_type": "code",
   "execution_count": 35,
   "metadata": {},
   "outputs": [],
   "source": [
    "import glob"
   ]
  },
  {
   "cell_type": "code",
   "execution_count": 36,
   "metadata": {},
   "outputs": [
    {
     "data": {
      "text/plain": [
       "['C:/Users/bjack/Documents/Python Scripts\\\\data_all_clean_new.xlsx',\n",
       " 'C:/Users/bjack/Documents/Python Scripts\\\\data_all_raw.xlsx',\n",
       " 'C:/Users/bjack/Documents/Python Scripts\\\\data_all_raw_new.xlsx',\n",
       " 'C:/Users/bjack/Documents/Python Scripts\\\\data_output.xlsx',\n",
       " 'C:/Users/bjack/Documents/Python Scripts\\\\data_output2.xlsx',\n",
       " 'C:/Users/bjack/Documents/Python Scripts\\\\ds_all_clean.xlsx',\n",
       " 'C:/Users/bjack/Documents/Python Scripts\\\\ds_all_clean_new.xlsx',\n",
       " 'C:/Users/bjack/Documents/Python Scripts\\\\ds_all_raw.xlsx',\n",
       " 'C:/Users/bjack/Documents/Python Scripts\\\\Houston_Clean.xlsx',\n",
       " 'C:/Users/bjack/Documents/Python Scripts\\\\uBrandClassifier.xlsx']"
      ]
     },
     "execution_count": 36,
     "metadata": {},
     "output_type": "execute_result"
    }
   ],
   "source": [
    "glob.glob(\"C:/Users/bjack/Documents/Python Scripts/*.xlsx\")"
   ]
  },
  {
   "cell_type": "code",
   "execution_count": null,
   "metadata": {},
   "outputs": [],
   "source": []
  },
  {
   "cell_type": "code",
   "execution_count": 37,
   "metadata": {},
   "outputs": [],
   "source": [
    "import pandas as pd"
   ]
  },
  {
   "cell_type": "code",
   "execution_count": 38,
   "metadata": {},
   "outputs": [
    {
     "name": "stderr",
     "output_type": "stream",
     "text": [
      "C:\\Users\\bjack\\Anaconda3\\lib\\site-packages\\pandas\\core\\frame.py:6211: FutureWarning: Sorting because non-concatenation axis is not aligned. A future version\n",
      "of pandas will change to not sort by default.\n",
      "\n",
      "To accept the future behavior, pass 'sort=False'.\n",
      "\n",
      "To retain the current behavior and silence the warning, pass 'sort=True'.\n",
      "\n",
      "  sort=sort)\n"
     ]
    }
   ],
   "source": [
    "import pandas as pd\n",
    "import glob\n",
    "\n",
    "\n",
    "all_data = pd.DataFrame()\n",
    "for f in glob.glob(\"C:/Users/bjack/Documents/Python Scripts/*.xlsx\"):\n",
    "    df = pd.read_excel(f)\n",
    "    all_data = all_data.append(df,ignore_index=False)"
   ]
  },
  {
   "cell_type": "code",
   "execution_count": 39,
   "metadata": {},
   "outputs": [
    {
     "data": {
      "text/html": [
       "<div>\n",
       "<style scoped>\n",
       "    .dataframe tbody tr th:only-of-type {\n",
       "        vertical-align: middle;\n",
       "    }\n",
       "\n",
       "    .dataframe tbody tr th {\n",
       "        vertical-align: top;\n",
       "    }\n",
       "\n",
       "    .dataframe thead th {\n",
       "        text-align: right;\n",
       "    }\n",
       "</style>\n",
       "<table border=\"1\" class=\"dataframe\">\n",
       "  <thead>\n",
       "    <tr style=\"text-align: right;\">\n",
       "      <th></th>\n",
       "      <th>City</th>\n",
       "      <th>Company</th>\n",
       "      <th>Description</th>\n",
       "      <th>Location</th>\n",
       "      <th>MaxSalary</th>\n",
       "      <th>MinSalary</th>\n",
       "      <th>Name</th>\n",
       "      <th>Post</th>\n",
       "      <th>Salary</th>\n",
       "      <th>State</th>\n",
       "      <th>Type</th>\n",
       "      <th>Url</th>\n",
       "      <th>maxSalary</th>\n",
       "      <th>minSalary</th>\n",
       "    </tr>\n",
       "  </thead>\n",
       "  <tbody>\n",
       "    <tr>\n",
       "      <th>0</th>\n",
       "      <td>Salt Lake City</td>\n",
       "      <td>Clearlink</td>\n",
       "      <td>NaN</td>\n",
       "      <td>Salt Lake City, UT</td>\n",
       "      <td>NaN</td>\n",
       "      <td>NaN</td>\n",
       "      <td>People Analytics  Data Scientist</td>\n",
       "      <td>NaN</td>\n",
       "      <td>$66k-$98k</td>\n",
       "      <td>UT</td>\n",
       "      <td>NaN</td>\n",
       "      <td>https://www.glassdoor.com/partner/jobListing.h...</td>\n",
       "      <td>98000.0</td>\n",
       "      <td>66000.0</td>\n",
       "    </tr>\n",
       "    <tr>\n",
       "      <th>1</th>\n",
       "      <td>San Francisco</td>\n",
       "      <td>Talkdesk</td>\n",
       "      <td>NaN</td>\n",
       "      <td>San Francisco, CA</td>\n",
       "      <td>NaN</td>\n",
       "      <td>NaN</td>\n",
       "      <td>Data Analyst</td>\n",
       "      <td>NaN</td>\n",
       "      <td>$40k-$69k</td>\n",
       "      <td>CA</td>\n",
       "      <td>NaN</td>\n",
       "      <td>https://www.glassdoor.com/partner/jobListing.h...</td>\n",
       "      <td>69000.0</td>\n",
       "      <td>40000.0</td>\n",
       "    </tr>\n",
       "    <tr>\n",
       "      <th>2</th>\n",
       "      <td>Albany</td>\n",
       "      <td>CommerceHub</td>\n",
       "      <td>NaN</td>\n",
       "      <td>Albany, NY</td>\n",
       "      <td>NaN</td>\n",
       "      <td>NaN</td>\n",
       "      <td>Business Intelligence Senior Data Analyst</td>\n",
       "      <td>NaN</td>\n",
       "      <td>$41k-$70k</td>\n",
       "      <td>NY</td>\n",
       "      <td>NaN</td>\n",
       "      <td>https://www.glassdoor.com/partner/jobListing.h...</td>\n",
       "      <td>70000.0</td>\n",
       "      <td>41000.0</td>\n",
       "    </tr>\n",
       "    <tr>\n",
       "      <th>3</th>\n",
       "      <td>Cambridge</td>\n",
       "      <td>Amazon</td>\n",
       "      <td>NaN</td>\n",
       "      <td>Cambridge, MA</td>\n",
       "      <td>NaN</td>\n",
       "      <td>NaN</td>\n",
       "      <td>Data Scientist</td>\n",
       "      <td>NaN</td>\n",
       "      <td>$109k-$156k</td>\n",
       "      <td>MA</td>\n",
       "      <td>NaN</td>\n",
       "      <td>https://www.glassdoor.com/partner/jobListing.h...</td>\n",
       "      <td>156000.0</td>\n",
       "      <td>109000.0</td>\n",
       "    </tr>\n",
       "    <tr>\n",
       "      <th>4</th>\n",
       "      <td>Draper</td>\n",
       "      <td>Proofpoint</td>\n",
       "      <td>NaN</td>\n",
       "      <td>Draper, UT</td>\n",
       "      <td>NaN</td>\n",
       "      <td>NaN</td>\n",
       "      <td>Data Scientist</td>\n",
       "      <td>NaN</td>\n",
       "      <td>$89k-$129k</td>\n",
       "      <td>UT</td>\n",
       "      <td>NaN</td>\n",
       "      <td>https://www.glassdoor.com/partner/jobListing.h...</td>\n",
       "      <td>129000.0</td>\n",
       "      <td>89000.0</td>\n",
       "    </tr>\n",
       "  </tbody>\n",
       "</table>\n",
       "</div>"
      ],
      "text/plain": [
       "             City      Company Description            Location  MaxSalary  \\\n",
       "0  Salt Lake City    Clearlink         NaN  Salt Lake City, UT        NaN   \n",
       "1   San Francisco     Talkdesk         NaN   San Francisco, CA        NaN   \n",
       "2          Albany  CommerceHub         NaN          Albany, NY        NaN   \n",
       "3       Cambridge       Amazon         NaN       Cambridge, MA        NaN   \n",
       "4          Draper   Proofpoint         NaN          Draper, UT        NaN   \n",
       "\n",
       "   MinSalary                                       Name Post       Salary  \\\n",
       "0        NaN           People Analytics  Data Scientist  NaN    $66k-$98k   \n",
       "1        NaN                               Data Analyst  NaN    $40k-$69k   \n",
       "2        NaN  Business Intelligence Senior Data Analyst  NaN    $41k-$70k   \n",
       "3        NaN                             Data Scientist  NaN  $109k-$156k   \n",
       "4        NaN                             Data Scientist  NaN   $89k-$129k   \n",
       "\n",
       "  State Type                                                Url  maxSalary  \\\n",
       "0    UT  NaN  https://www.glassdoor.com/partner/jobListing.h...    98000.0   \n",
       "1    CA  NaN  https://www.glassdoor.com/partner/jobListing.h...    69000.0   \n",
       "2    NY  NaN  https://www.glassdoor.com/partner/jobListing.h...    70000.0   \n",
       "3    MA  NaN  https://www.glassdoor.com/partner/jobListing.h...   156000.0   \n",
       "4    UT  NaN  https://www.glassdoor.com/partner/jobListing.h...   129000.0   \n",
       "\n",
       "   minSalary  \n",
       "0    66000.0  \n",
       "1    40000.0  \n",
       "2    41000.0  \n",
       "3   109000.0  \n",
       "4    89000.0  "
      ]
     },
     "execution_count": 39,
     "metadata": {},
     "output_type": "execute_result"
    }
   ],
   "source": [
    "all_data.head()"
   ]
  },
  {
   "cell_type": "code",
   "execution_count": null,
   "metadata": {},
   "outputs": [],
   "source": [
    "#https://pbpython.bcom/excel-file-combine.html"
   ]
  },
  {
   "cell_type": "code",
   "execution_count": null,
   "metadata": {},
   "outputs": [],
   "source": [
    "pd.pivot_table()"
   ]
  },
  {
   "cell_type": "code",
   "execution_count": 44,
   "metadata": {},
   "outputs": [],
   "source": [
    "productid = 223\n",
    "productid2 = 2323\n",
    "productid3 = 223"
   ]
  },
  {
   "cell_type": "code",
   "execution_count": 46,
   "metadata": {},
   "outputs": [
    {
     "name": "stdout",
     "output_type": "stream",
     "text": [
      "\n",
      "\n",
      "select * from customer where productid in (223,2323,223)\n",
      "\n"
     ]
    }
   ],
   "source": [
    "\n",
    "\n",
    "sql = '''\n",
    "select * from customer where productid in ({},{},{})\n",
    "\n",
    "\n",
    "\n",
    "\n",
    "\n",
    "\n",
    "'''.format(productid,productid2,productid3)\n",
    "\n",
    "print(sql)\n",
    "\n"
   ]
  },
  {
   "cell_type": "code",
   "execution_count": null,
   "metadata": {},
   "outputs": [],
   "source": [
    "pd.read_sql(sql,connection)"
   ]
  },
  {
   "cell_type": "code",
   "execution_count": 2,
   "metadata": {},
   "outputs": [],
   "source": [
    "# Create list areas\n",
    "areas = [11.25, 18.0, 20.0, 10.75, 9.50]\n",
    "\n",
    "# Use append twice to add poolhouse and garage size\n",
    "\n",
    "\n",
    "\n",
    "print(areas)\n",
    "\n",
    "areas.append(24.5)\n",
    "\n",
    "areas.append(15.45)\n",
    "\n",
    "print(areas)\n",
    "\n",
    "areas.reverse()\n",
    "\n",
    "print(areas)"
   ]
  },
  {
   "cell_type": "code",
   "execution_count": 25,
   "metadata": {},
   "outputs": [],
   "source": [
    "list = ['simple', 'is', 'better', 'than', 'complex'] "
   ]
  },
  {
   "cell_type": "code",
   "execution_count": null,
   "metadata": {},
   "outputs": [],
   "source": []
  },
  {
   "cell_type": "code",
   "execution_count": 44,
   "metadata": {},
   "outputs": [
    {
     "name": "stdout",
     "output_type": "stream",
     "text": [
      "7\n"
     ]
    }
   ],
   "source": [
    "# Option 1 - Brandon's try\n",
    "\n",
    "length_list=[]\n",
    "for i in list:\n",
    "    length_list.append(len(str(i)))\n",
    "    length_list.sort()\n",
    "print(length_list[-1])\n",
    "\n",
    "  "
   ]
  },
  {
   "cell_type": "code",
   "execution_count": 10,
   "metadata": {},
   "outputs": [],
   "source": [
    "# Option 2: Thinkfuls solutons\n",
    "def longest(words):\n",
    "\n",
    "    result = 0\n",
    "\n",
    "    for word in words:\n",
    "\n",
    "        if len(word) > result:\n",
    "\n",
    "            result = len(word)\n",
    "\n",
    "    return result"
   ]
  },
  {
   "cell_type": "code",
   "execution_count": 11,
   "metadata": {},
   "outputs": [
    {
     "data": {
      "text/plain": [
       "7"
      ]
     },
     "execution_count": 11,
     "metadata": {},
     "output_type": "execute_result"
    }
   ],
   "source": [
    "longest(list)"
   ]
  },
  {
   "cell_type": "code",
   "execution_count": 133,
   "metadata": {},
   "outputs": [],
   "source": [
    "# Grade\n",
    "import numpy as np\n",
    "\n",
    "grades = [92, 94, 99,8]\n"
   ]
  },
  {
   "cell_type": "code",
   "execution_count": 134,
   "metadata": {},
   "outputs": [],
   "source": [
    "np_grades = np.array(grades)\n"
   ]
  },
  {
   "cell_type": "code",
   "execution_count": 137,
   "metadata": {},
   "outputs": [
    {
     "data": {
      "text/plain": [
       "numpy.ndarray"
      ]
     },
     "execution_count": 137,
     "metadata": {},
     "output_type": "execute_result"
    }
   ],
   "source": [
    "type(np_grades)"
   ]
  },
  {
   "cell_type": "code",
   "execution_count": 138,
   "metadata": {},
   "outputs": [],
   "source": [
    "m = np_grades.mean()"
   ]
  },
  {
   "cell_type": "code",
   "execution_count": 139,
   "metadata": {},
   "outputs": [
    {
     "data": {
      "text/plain": [
       "73.25"
      ]
     },
     "execution_count": 139,
     "metadata": {},
     "output_type": "execute_result"
    }
   ],
   "source": [
    "m"
   ]
  },
  {
   "cell_type": "code",
   "execution_count": 140,
   "metadata": {},
   "outputs": [
    {
     "name": "stdout",
     "output_type": "stream",
     "text": [
      "C\n"
     ]
    }
   ],
   "source": [
    "if m >= 90:\n",
    "    print(\"A\")\n",
    "elif  m >= 80 and m <90:\n",
    "    print(\"B\")\n",
    "elif   m >= 70 and m <80:\n",
    "    print(\"C\")\n",
    "elif   m >= 60 and m <70:\n",
    "    print(\"D\")\n",
    "elif  m <60:\n",
    "    print(\"F\")\n",
    "    \n",
    "    "
   ]
  },
  {
   "cell_type": "code",
   "execution_count": 141,
   "metadata": {},
   "outputs": [],
   "source": [
    "# Option 1 - Brandon Solutions\n",
    "\n",
    "\n",
    "grades = [92, 94, 99,8]\n",
    "def grade(grades):\n",
    "    grades_l  = grades\n",
    "    np_grades = np.array(grades_l)\n",
    "    m = np_grades.mean()\n",
    "\n",
    "    if m >= 90:\n",
    "        return \"A\"\n",
    "    elif  m >= 80 and m <90:\n",
    "        return \"B\"\n",
    "    elif   m >= 70 and m <80:\n",
    "        return \"C\"\n",
    "    elif   m >= 60 and m <70:\n",
    "        return \"D\"\n",
    "    elif  m <60:\n",
    "        return \"F\"\n",
    "    \n",
    "    "
   ]
  },
  {
   "cell_type": "code",
   "execution_count": 142,
   "metadata": {},
   "outputs": [
    {
     "data": {
      "text/plain": [
       "'C'"
      ]
     },
     "execution_count": 142,
     "metadata": {},
     "output_type": "execute_result"
    }
   ],
   "source": [
    "grade(grades)"
   ]
  },
  {
   "cell_type": "code",
   "execution_count": 145,
   "metadata": {},
   "outputs": [],
   "source": [
    "#Option 2: Thinkful solution\n",
    "def calculate_grade(scores):\n",
    "\n",
    "    total = 0\n",
    "\n",
    "    for score in scores:\n",
    "\n",
    "        total += score\n",
    "\n",
    "    mean_score = total / len(scores)\n",
    "\n",
    "\n",
    "\n",
    "    if mean_score >= 90:\n",
    "\n",
    "        return \"A\"\n",
    "\n",
    "    elif mean_score >= 80:\n",
    "\n",
    "        return \"B\"\n",
    "\n",
    "    elif mean_score >= 70:\n",
    "\n",
    "        return \"C\"\n",
    "\n",
    "    elif mean_score >= 60:\n",
    "\n",
    "        return \"D\"\n",
    "\n",
    "    else:\n",
    "\n",
    "        return \"F\""
   ]
  },
  {
   "cell_type": "code",
   "execution_count": 146,
   "metadata": {},
   "outputs": [
    {
     "ename": "NameError",
     "evalue": "name 'none' is not defined",
     "output_type": "error",
     "traceback": [
      "\u001b[1;31m---------------------------------------------------------------------------\u001b[0m",
      "\u001b[1;31mNameError\u001b[0m                                 Traceback (most recent call last)",
      "\u001b[1;32m<ipython-input-146-5ae4aab22c4b>\u001b[0m in \u001b[0;36m<module>\u001b[1;34m\u001b[0m\n\u001b[1;32m----> 1\u001b[1;33m \u001b[0mcalculate_grade\u001b[0m\u001b[1;33m(\u001b[0m\u001b[0mgrades\u001b[0m\u001b[1;33m)\u001b[0m\u001b[1;33m\u001b[0m\u001b[1;33m\u001b[0m\u001b[0m\n\u001b[0m",
      "\u001b[1;32m<ipython-input-145-3c233fb2ce68>\u001b[0m in \u001b[0;36mcalculate_grade\u001b[1;34m(scores)\u001b[0m\n\u001b[0;32m      2\u001b[0m \u001b[1;32mdef\u001b[0m \u001b[0mcalculate_grade\u001b[0m\u001b[1;33m(\u001b[0m\u001b[0mscores\u001b[0m\u001b[1;33m)\u001b[0m\u001b[1;33m:\u001b[0m\u001b[1;33m\u001b[0m\u001b[1;33m\u001b[0m\u001b[0m\n\u001b[0;32m      3\u001b[0m \u001b[1;33m\u001b[0m\u001b[0m\n\u001b[1;32m----> 4\u001b[1;33m     \u001b[0mtotal\u001b[0m \u001b[1;33m=\u001b[0m \u001b[0mnone\u001b[0m\u001b[1;33m\u001b[0m\u001b[1;33m\u001b[0m\u001b[0m\n\u001b[0m\u001b[0;32m      5\u001b[0m \u001b[1;33m\u001b[0m\u001b[0m\n\u001b[0;32m      6\u001b[0m     \u001b[1;32mfor\u001b[0m \u001b[0mscore\u001b[0m \u001b[1;32min\u001b[0m \u001b[0mscores\u001b[0m\u001b[1;33m:\u001b[0m\u001b[1;33m\u001b[0m\u001b[1;33m\u001b[0m\u001b[0m\n",
      "\u001b[1;31mNameError\u001b[0m: name 'none' is not defined"
     ]
    }
   ],
   "source": [
    "calculate_grade(grades)"
   ]
  },
  {
   "cell_type": "code",
   "execution_count": 114,
   "metadata": {},
   "outputs": [
    {
     "data": {
      "text/plain": [
       "list"
      ]
     },
     "execution_count": 114,
     "metadata": {},
     "output_type": "execute_result"
    }
   ],
   "source": [
    "type(list)"
   ]
  },
  {
   "cell_type": "code",
   "execution_count": 115,
   "metadata": {},
   "outputs": [
    {
     "data": {
      "text/plain": [
       "tuple"
      ]
     },
     "execution_count": 115,
     "metadata": {},
     "output_type": "execute_result"
    }
   ],
   "source": [
    "type(tuple)"
   ]
  },
  {
   "cell_type": "code",
   "execution_count": 97,
   "metadata": {},
   "outputs": [
    {
     "data": {
      "text/plain": [
       "range(0, 10)"
      ]
     },
     "execution_count": 97,
     "metadata": {},
     "output_type": "execute_result"
    }
   ],
   "source": [
    "range(10)"
   ]
  },
  {
   "cell_type": "code",
   "execution_count": 98,
   "metadata": {},
   "outputs": [
    {
     "data": {
      "text/plain": [
       "range(3, 10)"
      ]
     },
     "execution_count": 98,
     "metadata": {},
     "output_type": "execute_result"
    }
   ],
   "source": [
    "range(3,10)"
   ]
  },
  {
   "cell_type": "code",
   "execution_count": 106,
   "metadata": {},
   "outputs": [
    {
     "name": "stdout",
     "output_type": "stream",
     "text": [
      "0\n",
      "2\n",
      "4\n",
      "6\n",
      "8\n"
     ]
    }
   ],
   "source": [
    "for i in range(0,10,2):\n",
    "    print(i)"
   ]
  },
  {
   "cell_type": "code",
   "execution_count": 103,
   "metadata": {},
   "outputs": [
    {
     "name": "stdout",
     "output_type": "stream",
     "text": [
      "1\n",
      "2\n",
      "3\n",
      "4\n",
      "5\n"
     ]
    }
   ],
   "source": [
    "for i in list: \n",
    "    print(i)"
   ]
  },
  {
   "cell_type": "code",
   "execution_count": 104,
   "metadata": {},
   "outputs": [
    {
     "data": {
      "text/plain": [
       "range(0, 10, 25)"
      ]
     },
     "execution_count": 104,
     "metadata": {},
     "output_type": "execute_result"
    }
   ],
   "source": [
    "range(0,10,25)"
   ]
  },
  {
   "cell_type": "code",
   "execution_count": 109,
   "metadata": {},
   "outputs": [
    {
     "ename": "TypeError",
     "evalue": "'list' object is not callable",
     "output_type": "error",
     "traceback": [
      "\u001b[1;31m---------------------------------------------------------------------------\u001b[0m",
      "\u001b[1;31mTypeError\u001b[0m                                 Traceback (most recent call last)",
      "\u001b[1;32m<ipython-input-109-c74c83018faa>\u001b[0m in \u001b[0;36m<module>\u001b[1;34m\u001b[0m\n\u001b[1;32m----> 1\u001b[1;33m \u001b[0mv\u001b[0m \u001b[1;33m=\u001b[0m \u001b[0mlist\u001b[0m\u001b[1;33m(\u001b[0m\u001b[0mrange\u001b[0m\u001b[1;33m(\u001b[0m\u001b[1;36m1\u001b[0m\u001b[1;33m,\u001b[0m \u001b[1;36m1001\u001b[0m\u001b[1;33m)\u001b[0m\u001b[1;33m)\u001b[0m\u001b[1;33m\u001b[0m\u001b[1;33m\u001b[0m\u001b[0m\n\u001b[0m",
      "\u001b[1;31mTypeError\u001b[0m: 'list' object is not callable"
     ]
    }
   ],
   "source": [
    "v = list(range(1, 1001))"
   ]
  },
  {
   "cell_type": "code",
   "execution_count": 116,
   "metadata": {},
   "outputs": [
    {
     "name": "stdout",
     "output_type": "stream",
     "text": [
      "Today is tuesday but I like Wedns\n"
     ]
    }
   ],
   "source": [
    "_1 = 'tuesday'\n",
    "_2 = 'Wedns'\n",
    "Sentence = 'Today is {} but I like {}'.format(_1,_2)\n",
    "print(Sentence)"
   ]
  },
  {
   "cell_type": "code",
   "execution_count": 117,
   "metadata": {},
   "outputs": [],
   "source": [
    "list1 = ['A','B','C']\n",
    "list2 = [1,2,3]"
   ]
  },
  {
   "cell_type": "code",
   "execution_count": 119,
   "metadata": {},
   "outputs": [
    {
     "data": {
      "text/plain": [
       "1"
      ]
     },
     "execution_count": 119,
     "metadata": {},
     "output_type": "execute_result"
    }
   ],
   "source": [
    "list1.index('B')"
   ]
  },
  {
   "cell_type": "code",
   "execution_count": 126,
   "metadata": {},
   "outputs": [],
   "source": [
    "to_do = [\"Conquer world\", \"Install Linux\", \"Change light bulb\"]\n",
    "current_task = to_do.pop(-2)"
   ]
  },
  {
   "cell_type": "code",
   "execution_count": 127,
   "metadata": {},
   "outputs": [
    {
     "data": {
      "text/plain": [
       "'Install Linux'"
      ]
     },
     "execution_count": 127,
     "metadata": {},
     "output_type": "execute_result"
    }
   ],
   "source": [
    "current_task"
   ]
  },
  {
   "cell_type": "code",
   "execution_count": 128,
   "metadata": {},
   "outputs": [
    {
     "data": {
      "text/plain": [
       "['Conquer world', 'Change light bulb']"
      ]
     },
     "execution_count": 128,
     "metadata": {},
     "output_type": "execute_result"
    }
   ],
   "source": [
    "to_do"
   ]
  },
  {
   "cell_type": "code",
   "execution_count": 1,
   "metadata": {},
   "outputs": [
    {
     "name": "stdout",
     "output_type": "stream",
     "text": [
      "[4, 6, 8, 12]\n"
     ]
    }
   ],
   "source": [
    "# lambda functions\n",
    "\n",
    "# Program to filter out only the even items from a list\n",
    "\n",
    "my_list = [1, 5, 4, 6, 8, 11, 3, 12]\n",
    "\n",
    "new_list = list(filter(lambda x: (x%2 == 0) , my_list))\n",
    "\n",
    "# Output: [4, 6, 8, 12]\n",
    "print(new_list)"
   ]
  },
  {
   "cell_type": "code",
   "execution_count": 2,
   "metadata": {},
   "outputs": [
    {
     "data": {
      "text/plain": [
       "<function __main__.<lambda>(x)>"
      ]
     },
     "execution_count": 2,
     "metadata": {},
     "output_type": "execute_result"
    }
   ],
   "source": [
    "lambda x: (x%2 == 0)"
   ]
  },
  {
   "cell_type": "code",
   "execution_count": null,
   "metadata": {},
   "outputs": [],
   "source": []
  },
  {
   "cell_type": "code",
   "execution_count": 16,
   "metadata": {},
   "outputs": [],
   "source": [
    "double_lambda = lambda x: x*2"
   ]
  },
  {
   "cell_type": "code",
   "execution_count": 17,
   "metadata": {},
   "outputs": [
    {
     "data": {
      "text/plain": [
       "12"
      ]
     },
     "execution_count": 17,
     "metadata": {},
     "output_type": "execute_result"
    }
   ],
   "source": [
    "double_lambda(6)"
   ]
  },
  {
   "cell_type": "code",
   "execution_count": 3,
   "metadata": {},
   "outputs": [],
   "source": [
    "x = 2"
   ]
  },
  {
   "cell_type": "code",
   "execution_count": 4,
   "metadata": {},
   "outputs": [
    {
     "data": {
      "text/plain": [
       "<function __main__.<lambda>(x)>"
      ]
     },
     "execution_count": 4,
     "metadata": {},
     "output_type": "execute_result"
    }
   ],
   "source": [
    "lambda x: x * 2"
   ]
  },
  {
   "cell_type": "code",
   "execution_count": 8,
   "metadata": {},
   "outputs": [],
   "source": [
    "triple = lambda x: x * 3"
   ]
  },
  {
   "cell_type": "code",
   "execution_count": 9,
   "metadata": {},
   "outputs": [
    {
     "data": {
      "text/plain": [
       "6"
      ]
     },
     "execution_count": 9,
     "metadata": {},
     "output_type": "execute_result"
    }
   ],
   "source": [
    "triple(2)"
   ]
  },
  {
   "cell_type": "code",
   "execution_count": 7,
   "metadata": {},
   "outputs": [
    {
     "data": {
      "text/plain": [
       "4"
      ]
     },
     "execution_count": 7,
     "metadata": {},
     "output_type": "execute_result"
    }
   ],
   "source": [
    "double(2)"
   ]
  },
  {
   "cell_type": "code",
   "execution_count": null,
   "metadata": {},
   "outputs": [],
   "source": [
    "#iloc and loc data frame tutorial: https://www.shanelynn.ie/select-pandas-dataframe-rows-and-columns-using-iloc-loc-and-ix/\n",
    "\n"
   ]
  },
  {
   "cell_type": "code",
   "execution_count": 2,
   "metadata": {},
   "outputs": [],
   "source": [
    "import matplotlib.pyplot as plt\n",
    "%matplotlib inline"
   ]
  },
  {
   "cell_type": "code",
   "execution_count": 5,
   "metadata": {},
   "outputs": [
    {
     "name": "stdout",
     "output_type": "stream",
     "text": [
      "Collecting contextily\n",
      "  Using cached https://files.pythonhosted.org/packages/10/34/2aabf40c1acfb4b2f623e90f1a130eba80fd664a2d91c801558acebe3d3c/contextily-0.99.0.tar.gz\n",
      "Collecting cartopy (from contextily)\n",
      "  Using cached https://files.pythonhosted.org/packages/e5/92/fe8838fa8158931906dfc4f16c5c1436b3dd2daf83592645b179581403ad/Cartopy-0.17.0.tar.gz\n",
      "  Installing build dependencies: started\n",
      "  Installing build dependencies: finished with status 'done'\n",
      "    Complete output from command python setup.py egg_info:\n",
      "    C:\\Users\\bjack\\AppData\\Local\\Temp\\pip-install-poyq7rmf\\cartopy\\setup.py:171: UserWarning: Unable to determine GEOS version. Ensure you have 3.3.3 or later installed, or installation may fail.\n",
      "      '.'.join(str(v) for v in GEOS_MIN_VERSION), ))\n",
      "    Proj 4.9.0 must be installed.\n",
      "    \n",
      "    ----------------------------------------\n"
     ]
    },
    {
     "name": "stderr",
     "output_type": "stream",
     "text": [
      "Command \"python setup.py egg_info\" failed with error code 1 in C:\\Users\\bjack\\AppData\\Local\\Temp\\pip-install-poyq7rmf\\cartopy\\\n"
     ]
    }
   ],
   "source": [
    "! pip install contextily "
   ]
  },
  {
   "cell_type": "code",
   "execution_count": 9,
   "metadata": {},
   "outputs": [
    {
     "ename": "ModuleNotFoundError",
     "evalue": "No module named 'contextily'",
     "output_type": "error",
     "traceback": [
      "\u001b[1;31m---------------------------------------------------------------------------\u001b[0m",
      "\u001b[1;31mModuleNotFoundError\u001b[0m                       Traceback (most recent call last)",
      "\u001b[1;32m<ipython-input-9-8430a8094546>\u001b[0m in \u001b[0;36m<module>\u001b[1;34m\u001b[0m\n\u001b[1;32m----> 1\u001b[1;33m \u001b[1;32mimport\u001b[0m \u001b[0mcontextily\u001b[0m \u001b[1;32mas\u001b[0m \u001b[0mct\u001b[0m\u001b[1;33m\u001b[0m\u001b[1;33m\u001b[0m\u001b[0m\n\u001b[0m",
      "\u001b[1;31mModuleNotFoundError\u001b[0m: No module named 'contextily'"
     ]
    }
   ],
   "source": [
    "import contextily as ct"
   ]
  },
  {
   "cell_type": "code",
   "execution_count": 10,
   "metadata": {},
   "outputs": [
    {
     "name": "stdout",
     "output_type": "stream",
     "text": [
      "Solving environment: ...working... failed\n"
     ]
    },
    {
     "name": "stderr",
     "output_type": "stream",
     "text": [
      "\n",
      "PackagesNotFoundError: The following packages are not available from current channels:\n",
      "\n",
      "  - contextily\n",
      "\n",
      "Current channels:\n",
      "\n",
      "  - https://repo.anaconda.com/pkgs/main/win-64\n",
      "  - https://repo.anaconda.com/pkgs/main/noarch\n",
      "  - https://repo.anaconda.com/pkgs/free/win-64\n",
      "  - https://repo.anaconda.com/pkgs/free/noarch\n",
      "  - https://repo.anaconda.com/pkgs/r/win-64\n",
      "  - https://repo.anaconda.com/pkgs/r/noarch\n",
      "  - https://repo.anaconda.com/pkgs/pro/win-64\n",
      "  - https://repo.anaconda.com/pkgs/pro/noarch\n",
      "  - https://repo.anaconda.com/pkgs/msys2/win-64\n",
      "  - https://repo.anaconda.com/pkgs/msys2/noarch\n",
      "\n",
      "To search for alternate channels that may provide the conda package you're\n",
      "looking for, navigate to\n",
      "\n",
      "    https://anaconda.org\n",
      "\n",
      "and use the search bar at the top of the page.\n",
      "\n",
      "\n"
     ]
    }
   ],
   "source": [
    "! conda install contextily\n"
   ]
  },
  {
   "cell_type": "code",
   "execution_count": 11,
   "metadata": {},
   "outputs": [
    {
     "name": "stdout",
     "output_type": "stream",
     "text": [
      "Collecting git+https://github.com/darribas/contextily.git\n",
      "  Cloning https://github.com/darribas/contextily.git to c:\\users\\bjack\\appdata\\local\\temp\\pip-req-build-wflnz15m\n",
      "Collecting geopy\n",
      "  Using cached https://files.pythonhosted.org/packages/80/93/d384479da0ead712bdaf697a8399c13a9a89bd856ada5a27d462fb45e47b/geopy-1.20.0-py2.py3-none-any.whl\n",
      "Requirement already satisfied: matplotlib in c:\\users\\bjack\\anaconda3\\lib\\site-packages (from contextily==1.0rc2) (3.0.2)\n",
      "Collecting mercantile\n",
      "  Using cached https://files.pythonhosted.org/packages/9d/1d/80d28ba17e4647bf820e8d5f485d58f9da9c5ca424450489eb49e325ba66/mercantile-1.1.2-py3-none-any.whl\n",
      "Requirement already satisfied: pillow in c:\\users\\bjack\\anaconda3\\lib\\site-packages (from contextily==1.0rc2) (5.3.0)\n",
      "Collecting rasterio\n",
      "  Using cached https://files.pythonhosted.org/packages/1a/6d/ee8b15e0d45dd7e9e7f2559e37f91915a19155cf8403948ff2082903ee30/rasterio-1.1.0.tar.gz\n",
      "  Installing build dependencies: started\n",
      "  Installing build dependencies: finished with status 'done'\n",
      "  Getting requirements to build wheel: started\n",
      "  Getting requirements to build wheel: finished with status 'error'\n"
     ]
    },
    {
     "name": "stderr",
     "output_type": "stream",
     "text": [
      "  Running command git clone -q https://github.com/darribas/contextily.git 'C:\\Users\\bjack\\AppData\\Local\\Temp\\pip-req-build-wflnz15m'\n",
      "  ERROR: Command errored out with exit status 1:\n",
      "   command: 'c:\\users\\bjack\\anaconda3\\python.exe' 'c:\\users\\bjack\\anaconda3\\lib\\site-packages\\pip\\_vendor\\pep517\\_in_process.py' get_requires_for_build_wheel 'C:\\Users\\bjack\\AppData\\Local\\Temp\\tmpzrc7qifr'\n",
      "       cwd: C:\\Users\\bjack\\AppData\\Local\\Temp\\pip-install-co571gfy\\rasterio\\\n",
      "  Complete output (2 lines):\n",
      "  INFO:root:Building on Windows requires extra options to setup.py to locate needed GDAL files. More information is available in the README.\n",
      "  ERROR: A GDAL API version must be specified. Provide a path to gdal-config using a GDAL_CONFIG environment variable or use a GDAL_VERSION environment variable.\n",
      "  ----------------------------------------\n",
      "ERROR: Command errored out with exit status 1: 'c:\\users\\bjack\\anaconda3\\python.exe' 'c:\\users\\bjack\\anaconda3\\lib\\site-packages\\pip\\_vendor\\pep517\\_in_process.py' get_requires_for_build_wheel 'C:\\Users\\bjack\\AppData\\Local\\Temp\\tmpzrc7qifr' Check the logs for full command output.\n"
     ]
    }
   ],
   "source": [
    "! pip install git+https://github.com/darribas/contextily.git\n",
    "    "
   ]
  },
  {
   "cell_type": "code",
   "execution_count": 12,
   "metadata": {},
   "outputs": [],
   "source": [
    "! conda config --add channels conda-forge"
   ]
  },
  {
   "cell_type": "code",
   "execution_count": 13,
   "metadata": {},
   "outputs": [],
   "source": [
    "#https://github.com/conda-forge/rasterio-feedstock"
   ]
  },
  {
   "cell_type": "code",
   "execution_count": null,
   "metadata": {},
   "outputs": [],
   "source": [
    "! conda install rasterio"
   ]
  },
  {
   "cell_type": "code",
   "execution_count": 1,
   "metadata": {},
   "outputs": [
    {
     "name": "stdout",
     "output_type": "stream",
     "text": [
      "Collecting descartes\n",
      "  Downloading https://files.pythonhosted.org/packages/e5/b6/1ed2eb03989ae574584664985367ba70cd9cf8b32ee8cad0e8aaeac819f3/descartes-1.1.0-py3-none-any.whl\n",
      "Requirement already satisfied: matplotlib in c:\\users\\bjack\\anaconda3\\lib\\site-packages (from descartes) (3.0.2)\n",
      "Requirement already satisfied: numpy>=1.10.0 in c:\\users\\bjack\\anaconda3\\lib\\site-packages (from matplotlib->descartes) (1.15.4)\n",
      "Requirement already satisfied: cycler>=0.10 in c:\\users\\bjack\\anaconda3\\lib\\site-packages (from matplotlib->descartes) (0.10.0)\n",
      "Requirement already satisfied: kiwisolver>=1.0.1 in c:\\users\\bjack\\anaconda3\\lib\\site-packages (from matplotlib->descartes) (1.0.1)\n",
      "Requirement already satisfied: pyparsing!=2.0.4,!=2.1.2,!=2.1.6,>=2.0.1 in c:\\users\\bjack\\anaconda3\\lib\\site-packages (from matplotlib->descartes) (2.3.0)\n",
      "Requirement already satisfied: python-dateutil>=2.1 in c:\\users\\bjack\\anaconda3\\lib\\site-packages (from matplotlib->descartes) (2.7.5)\n",
      "Requirement already satisfied: six in c:\\users\\bjack\\anaconda3\\lib\\site-packages (from cycler>=0.10->matplotlib->descartes) (1.12.0)\n",
      "Requirement already satisfied: setuptools in c:\\users\\bjack\\anaconda3\\lib\\site-packages (from kiwisolver>=1.0.1->matplotlib->descartes) (41.4.0)\n",
      "Installing collected packages: descartes\n",
      "Successfully installed descartes-1.1.0\n"
     ]
    }
   ],
   "source": [
    "! pip install descartes"
   ]
  },
  {
   "cell_type": "code",
   "execution_count": 2,
   "metadata": {},
   "outputs": [
    {
     "name": "stdout",
     "output_type": "stream",
     "text": [
      "Collecting geopandas\n",
      "  Downloading https://files.pythonhosted.org/packages/59/39/de0263d511d4fc35a640cf00d02e497eb60698315a22936bedbdd904d7f7/geopandas-0.6.1-py2.py3-none-any.whl (918kB)\n",
      "Collecting fiona\n",
      "  Downloading https://files.pythonhosted.org/packages/94/7f/e288db1ad63d759d494c30caae34f865e0c6927588c490705e91b7134193/Fiona-1.8.8.tar.gz (1.7MB)\n"
     ]
    },
    {
     "name": "stderr",
     "output_type": "stream",
     "text": [
      "    ERROR: Command errored out with exit status 1:\n",
      "     command: 'c:\\users\\bjack\\anaconda3\\python.exe' -c 'import sys, setuptools, tokenize; sys.argv[0] = '\"'\"'C:\\\\Users\\\\bjack\\\\AppData\\\\Local\\\\Temp\\\\pip-install-uk5i3co8\\\\fiona\\\\setup.py'\"'\"'; __file__='\"'\"'C:\\\\Users\\\\bjack\\\\AppData\\\\Local\\\\Temp\\\\pip-install-uk5i3co8\\\\fiona\\\\setup.py'\"'\"';f=getattr(tokenize, '\"'\"'open'\"'\"', open)(__file__);code=f.read().replace('\"'\"'\\r\\n'\"'\"', '\"'\"'\\n'\"'\"');f.close();exec(compile(code, __file__, '\"'\"'exec'\"'\"'))' egg_info --egg-base 'C:\\Users\\bjack\\AppData\\Local\\Temp\\pip-install-uk5i3co8\\fiona\\pip-egg-info'\n",
      "         cwd: C:\\Users\\bjack\\AppData\\Local\\Temp\\pip-install-uk5i3co8\\fiona\\\n",
      "    Complete output (1 lines):\n",
      "    A GDAL API version must be specified. Provide a path to gdal-config using a GDAL_CONFIG environment variable or use a GDAL_VERSION environment variable.\n",
      "    ----------------------------------------\n",
      "ERROR: Command errored out with exit status 1: python setup.py egg_info Check the logs for full command output.\n"
     ]
    }
   ],
   "source": [
    "! pip install geopandas"
   ]
  },
  {
   "cell_type": "code",
   "execution_count": 3,
   "metadata": {},
   "outputs": [
    {
     "name": "stdout",
     "output_type": "stream",
     "text": [
      "Solving environment: ...working... failed\n"
     ]
    },
    {
     "name": "stderr",
     "output_type": "stream",
     "text": [
      "\n",
      "PackagesNotFoundError: The following packages are missing from the target environment:\n",
      "  - gdal\n",
      "\n",
      "\n"
     ]
    }
   ],
   "source": [
    "! conda remove gdal"
   ]
  },
  {
   "cell_type": "code",
   "execution_count": 14,
   "metadata": {},
   "outputs": [],
   "source": [
    "import gmplot \n",
    "  \n",
    "latitude_list = [ 30.3358376, 30.307977, 30.3216419 ] \n",
    "longitude_list = [ 77.8701919, 78.048457, 78.0413095 ] \n",
    "  \n",
    "gmap3 = gmplot.GoogleMapPlotter(30.3164945, \n",
    "                                78.03219179999999, 13) \n",
    "  \n",
    "# scatter method of map object  \n",
    "# scatter points on the google map \n",
    "gmap3.scatter( latitude_list, longitude_list, '# FF0000', \n",
    "                              size = 40, marker = False ) \n",
    "  \n",
    "# Plot method Draw a line in \n",
    "# between given coordinates \n",
    "gmap3.plot(latitude_list, longitude_list,  \n",
    "           'cornflowerblue', edge_width = 2.5) \n",
    "\n",
    "gmap3.draw(\"C://Users//bjack//Documents//Python Scripts//map12.html\" ) "
   ]
  },
  {
   "cell_type": "code",
   "execution_count": 8,
   "metadata": {},
   "outputs": [
    {
     "ename": "AttributeError",
     "evalue": "'dict' object has no attribute 'sorted'",
     "output_type": "error",
     "traceback": [
      "\u001b[1;31m---------------------------------------------------------------------------\u001b[0m",
      "\u001b[1;31mAttributeError\u001b[0m                            Traceback (most recent call last)",
      "\u001b[1;32m<ipython-input-8-eebe000bbc2c>\u001b[0m in \u001b[0;36m<module>\u001b[1;34m\u001b[0m\n\u001b[0;32m      3\u001b[0m     \u001b[1;34m'jupiter'\u001b[0m\u001b[1;33m:\u001b[0m \u001b[1;36m0.415\u001b[0m\u001b[1;33m,\u001b[0m\u001b[1;33m\u001b[0m\u001b[1;33m\u001b[0m\u001b[0m\n\u001b[0;32m      4\u001b[0m     'saturn': 44}\n\u001b[1;32m----> 5\u001b[1;33m \u001b[0mrotation_period\u001b[0m\u001b[1;33m[\u001b[0m\u001b[1;34m'saturn'\u001b[0m\u001b[1;33m]\u001b[0m \u001b[1;33m=\u001b[0m\u001b[1;36m0.445\u001b[0m\u001b[1;33m;\u001b[0m \u001b[0mrotation_period\u001b[0m\u001b[1;33m.\u001b[0m\u001b[0msorted\u001b[0m\u001b[1;33m(\u001b[0m\u001b[1;33m)\u001b[0m\u001b[1;33m\u001b[0m\u001b[1;33m\u001b[0m\u001b[0m\n\u001b[0m\u001b[0;32m      6\u001b[0m \u001b[1;33m\u001b[0m\u001b[0m\n\u001b[0;32m      7\u001b[0m \u001b[1;33m\u001b[0m\u001b[0m\n",
      "\u001b[1;31mAttributeError\u001b[0m: 'dict' object has no attribute 'sorted'"
     ]
    }
   ],
   "source": [
    "rotation_period = {\n",
    "    'earth': 1.0,\n",
    "    'jupiter': 0.415, \n",
    "    'saturn': 44}\n",
    "rotation_period['saturn'] =0.445; rotation_period.sorted()\n",
    "\n",
    "\n",
    "print(rotation_period)"
   ]
  },
  {
   "cell_type": "code",
   "execution_count": 2,
   "metadata": {},
   "outputs": [],
   "source": [
    "rotation_period['saturn']  = 0.445"
   ]
  },
  {
   "cell_type": "code",
   "execution_count": 3,
   "metadata": {},
   "outputs": [
    {
     "data": {
      "text/plain": [
       "{'earth': 1.0, 'jupiter': 0.415, 'saturn': 0.445}"
      ]
     },
     "execution_count": 3,
     "metadata": {},
     "output_type": "execute_result"
    }
   ],
   "source": [
    "rotation_period"
   ]
  },
  {
   "cell_type": "code",
   "execution_count": null,
   "metadata": {},
   "outputs": [],
   "source": [
    "{'earth': 1.0, 'jupiter': 0.415, 'saturn': 0.445}"
   ]
  },
  {
   "cell_type": "code",
   "execution_count": 9,
   "metadata": {},
   "outputs": [],
   "source": [
    "# installing datacamp"
   ]
  },
  {
   "cell_type": "code",
   "execution_count": 10,
   "metadata": {},
   "outputs": [
    {
     "name": "stdout",
     "output_type": "stream",
     "text": [
      "Collecting pythonwhat\n",
      "  Downloading https://files.pythonhosted.org/packages/26/ba/d9998144837af81c8e7eaecb1d739e4aef613dfe8f7eaeadd04d0b4daeae/pythonwhat-2.22.0.tar.gz (73kB)\n",
      "Collecting protowhat~=1.11.0\n",
      "  Downloading https://files.pythonhosted.org/packages/56/8e/d0d8715a2eb5ded4a79150c4c64676cdfcba3d97cb41fcfc1ab5926b7de5/protowhat-1.11.2.tar.gz\n",
      "Collecting markdown2~=2.3.7\n",
      "  Downloading https://files.pythonhosted.org/packages/89/d2/6aef45472f7956646fdc4cc5284e6f9d00476497a8d167c30b0f78bb75a5/markdown2-2.3.8-py2.py3-none-any.whl\n",
      "Requirement already satisfied: jinja2~=2.10 in c:\\users\\bjack\\anaconda3\\lib\\site-packages (from pythonwhat) (2.10)\n",
      "Collecting asttokens~=1.1.10\n",
      "  Downloading https://files.pythonhosted.org/packages/cc/f0/c9fa6d0902338b8ec949c1cbe57865da4661890b201f5ac05bd42ecc8e9f/asttokens-1.1.15-py2.py3-none-any.whl\n",
      "Collecting dill~=0.2.7.1\n",
      "  Downloading https://files.pythonhosted.org/packages/91/a0/19d4d31dee064fc553ae01263b5c55e7fb93daff03a69debbedee647c5a0/dill-0.2.7.1.tar.gz (64kB)\n",
      "Requirement already satisfied: numpy in c:\\users\\bjack\\anaconda3\\lib\\site-packages (from pythonwhat) (1.15.4)\n",
      "Requirement already satisfied: pandas in c:\\users\\bjack\\anaconda3\\lib\\site-packages (from pythonwhat) (0.23.4)\n",
      "Requirement already satisfied: MarkupSafe>=0.23 in c:\\users\\bjack\\anaconda3\\lib\\site-packages (from jinja2~=2.10->pythonwhat) (1.1.0)\n",
      "Requirement already satisfied: six in c:\\users\\bjack\\anaconda3\\lib\\site-packages (from asttokens~=1.1.10->pythonwhat) (1.12.0)\n",
      "Collecting pyreadline>=1.7.1\n",
      "  Downloading https://files.pythonhosted.org/packages/bc/7c/d724ef1ec3ab2125f38a1d53285745445ec4a8f19b9bb0761b4064316679/pyreadline-2.1.zip (109kB)\n",
      "Requirement already satisfied: python-dateutil>=2.5.0 in c:\\users\\bjack\\anaconda3\\lib\\site-packages (from pandas->pythonwhat) (2.7.5)\n",
      "Requirement already satisfied: pytz>=2011k in c:\\users\\bjack\\anaconda3\\lib\\site-packages (from pandas->pythonwhat) (2018.7)\n",
      "Building wheels for collected packages: pythonwhat, protowhat, dill, pyreadline\n",
      "  Building wheel for pythonwhat (setup.py): started\n",
      "  Building wheel for pythonwhat (setup.py): finished with status 'done'\n",
      "  Created wheel for pythonwhat: filename=pythonwhat-2.22.0-cp37-none-any.whl size=84379 sha256=3f145e51ba70913228c292515f9eaab07a546351312834245ee739342d38968d\n",
      "  Stored in directory: C:\\Users\\bjack\\AppData\\Local\\pip\\Cache\\wheels\\b3\\cb\\44\\6fb7454588a9af0a2a4dcefcaaa29a4ec30c6c214d47bd4f66\n",
      "  Building wheel for protowhat (setup.py): started\n",
      "  Building wheel for protowhat (setup.py): finished with status 'done'\n",
      "  Created wheel for protowhat: filename=protowhat-1.11.2-cp37-none-any.whl size=35719 sha256=b52e095595d0a794d8352c05b09313ad872fad605471384e2c394e49c12ec7d5\n",
      "  Stored in directory: C:\\Users\\bjack\\AppData\\Local\\pip\\Cache\\wheels\\03\\e8\\58\\0e454884ed12c7d47dd3723098b601d421481838dc07b7f1b8\n",
      "  Building wheel for dill (setup.py): started\n",
      "  Building wheel for dill (setup.py): finished with status 'done'\n",
      "  Created wheel for dill: filename=dill-0.2.7.1-cp37-none-any.whl size=54617 sha256=8daa2702155fd0e5a743b91bdf9c38fccd6f4809822b801d75a4fb6c62cf06d7\n",
      "  Stored in directory: C:\\Users\\bjack\\AppData\\Local\\pip\\Cache\\wheels\\99\\c4\\ed\\1b64d2d5809e60d5a3685530432f6159d6a9959739facb61f2\n",
      "  Building wheel for pyreadline (setup.py): started\n",
      "  Building wheel for pyreadline (setup.py): finished with status 'done'\n",
      "  Created wheel for pyreadline: filename=pyreadline-2.1-cp37-none-any.whl size=93846 sha256=edb53ded619f7974f2664bcbfd7a791573254669d969f33e9bb01a323711c82c\n",
      "  Stored in directory: C:\\Users\\bjack\\AppData\\Local\\pip\\Cache\\wheels\\70\\66\\59\\590265c96902c7616243300c8f0d8ffe7800253ad55dfa9aa1\n",
      "Successfully built pythonwhat protowhat dill pyreadline\n",
      "Installing collected packages: markdown2, protowhat, asttokens, pyreadline, dill, pythonwhat\n",
      "Successfully installed asttokens-1.1.15 dill-0.2.7.1 markdown2-2.3.8 protowhat-1.11.2 pyreadline-2.1 pythonwhat-2.22.0\n",
      "Collecting git+https://github.com/datacamp/pythonwhat\n",
      "  Cloning https://github.com/datacamp/pythonwhat to c:\\users\\bjack\\appdata\\local\\temp\\pip-req-build-q062scy3\n",
      "Requirement already satisfied (use --upgrade to upgrade): pythonwhat==2.22.0 from git+https://github.com/datacamp/pythonwhat in c:\\users\\bjack\\anaconda3\\lib\\site-packages\n",
      "Requirement already satisfied: protowhat~=1.11.0 in c:\\users\\bjack\\anaconda3\\lib\\site-packages (from pythonwhat==2.22.0) (1.11.2)\n",
      "Requirement already satisfied: markdown2~=2.3.7 in c:\\users\\bjack\\anaconda3\\lib\\site-packages (from pythonwhat==2.22.0) (2.3.8)\n",
      "Requirement already satisfied: jinja2~=2.10 in c:\\users\\bjack\\anaconda3\\lib\\site-packages (from pythonwhat==2.22.0) (2.10)\n",
      "Requirement already satisfied: asttokens~=1.1.10 in c:\\users\\bjack\\anaconda3\\lib\\site-packages (from pythonwhat==2.22.0) (1.1.15)\n",
      "Requirement already satisfied: dill~=0.2.7.1 in c:\\users\\bjack\\anaconda3\\lib\\site-packages (from pythonwhat==2.22.0) (0.2.7.1)\n",
      "Requirement already satisfied: numpy in c:\\users\\bjack\\anaconda3\\lib\\site-packages (from pythonwhat==2.22.0) (1.15.4)\n",
      "Requirement already satisfied: pandas in c:\\users\\bjack\\anaconda3\\lib\\site-packages (from pythonwhat==2.22.0) (0.23.4)\n",
      "Requirement already satisfied: MarkupSafe>=0.23 in c:\\users\\bjack\\anaconda3\\lib\\site-packages (from jinja2~=2.10->pythonwhat==2.22.0) (1.1.0)\n",
      "Requirement already satisfied: six in c:\\users\\bjack\\anaconda3\\lib\\site-packages (from asttokens~=1.1.10->pythonwhat==2.22.0) (1.12.0)\n",
      "Requirement already satisfied: pyreadline>=1.7.1 in c:\\users\\bjack\\anaconda3\\lib\\site-packages (from dill~=0.2.7.1->pythonwhat==2.22.0) (2.1)\n",
      "Requirement already satisfied: python-dateutil>=2.5.0 in c:\\users\\bjack\\anaconda3\\lib\\site-packages (from pandas->pythonwhat==2.22.0) (2.7.5)\n",
      "Requirement already satisfied: pytz>=2011k in c:\\users\\bjack\\anaconda3\\lib\\site-packages (from pandas->pythonwhat==2.22.0) (2018.7)\n",
      "Building wheels for collected packages: pythonwhat\n",
      "  Building wheel for pythonwhat (setup.py): started\n",
      "  Building wheel for pythonwhat (setup.py): finished with status 'done'\n",
      "  Created wheel for pythonwhat: filename=pythonwhat-2.22.0-cp37-none-any.whl size=85064 sha256=e519add19ebb420c6855a6dbc030f97eb6f18b2df87cc4a45c78d6349b73f3ae\n",
      "  Stored in directory: C:\\Users\\bjack\\AppData\\Local\\Temp\\pip-ephem-wheel-cache-rmo7t83c\\wheels\\06\\0a\\aa\\63b9231dbc60c25f2abab16c2dd1b1809e69a7811b9524ca66\n",
      "Successfully built pythonwhat\n"
     ]
    },
    {
     "name": "stderr",
     "output_type": "stream",
     "text": [
      "  Running command git clone -q https://github.com/datacamp/pythonwhat 'C:\\Users\\bjack\\AppData\\Local\\Temp\\pip-req-build-q062scy3'\n"
     ]
    }
   ],
   "source": [
    "# latest stable version from PyPi\n",
    "!pip install pythonwhat\n",
    "\n",
    "# latest development version from GitHub\n",
    "!pip install git+https://github.com/datacamp/pythonwhat"
   ]
  },
  {
   "cell_type": "code",
   "execution_count": 12,
   "metadata": {},
   "outputs": [
    {
     "data": {
      "text/plain": [
       "'x = 5'"
      ]
     },
     "execution_count": 12,
     "metadata": {},
     "output_type": "execute_result"
    }
   ],
   "source": [
    "# make all checking functions available\n",
    "from pythonwhat.test_exercise import prep_context\n",
    "_, ctxt = prep_context()\n",
    "globals().update(ctxt)\n",
    "\n",
    "# initialize state with student and solution submission\n",
    "from pythonwhat.test_exercise import setup_state\n",
    "setup_state(stu_code = \"x = 5\", sol_code = \"x = 5\")\n",
    "\n",
    "Ex().check_object('x')\n",
    "# No error: x is defined in both student and solution process\n",
    "\n",
    "Ex().check_object('x').has_equal_value()\n",
    "# TestFail: Did you correctly define the variable `x`? Expected `4`, but got `5`.\n",
    "\n",
    "# Debugging state\n",
    "Ex()._state               # access state object\n",
    "dir(Ex()._state)          # list all elements available in the state object\n",
    "Ex()._state.student_code  # access student_code of state object"
   ]
  },
  {
   "cell_type": "code",
   "execution_count": 13,
   "metadata": {},
   "outputs": [
    {
     "name": "stdout",
     "output_type": "stream",
     "text": [
      "hi, my name is DataCamp\n"
     ]
    }
   ],
   "source": [
    "print('hi, my name is DataCamp')"
   ]
  },
  {
   "cell_type": "code",
   "execution_count": 14,
   "metadata": {},
   "outputs": [
    {
     "ename": "TestFail",
     "evalue": "You did not output the correct things.",
     "output_type": "error",
     "traceback": [
      "\u001b[1;31m---------------------------------------------------------------------------\u001b[0m",
      "\u001b[1;31mTestFail\u001b[0m                                  Traceback (most recent call last)",
      "\u001b[1;32m<ipython-input-14-eb4a054e1aeb>\u001b[0m in \u001b[0;36m<module>\u001b[1;34m\u001b[0m\n\u001b[1;32m----> 1\u001b[1;33m \u001b[0mEx\u001b[0m\u001b[1;33m(\u001b[0m\u001b[1;33m)\u001b[0m\u001b[1;33m.\u001b[0m\u001b[0mhas_output\u001b[0m\u001b[1;33m(\u001b[0m\u001b[1;34mr'[H|h]i,\\s+my name is \\w+'\u001b[0m\u001b[1;33m)\u001b[0m\u001b[1;33m\u001b[0m\u001b[1;33m\u001b[0m\u001b[0m\n\u001b[0m",
      "\u001b[1;32m~\\Anaconda3\\lib\\site-packages\\protowhat\\sct_syntax.py\u001b[0m in \u001b[0;36m__call__\u001b[1;34m(self, *args, **kwargs)\u001b[0m\n\u001b[0;32m     68\u001b[0m \u001b[1;33m\u001b[0m\u001b[0m\n\u001b[0;32m     69\u001b[0m     \u001b[1;32mdef\u001b[0m \u001b[0m__call__\u001b[0m\u001b[1;33m(\u001b[0m\u001b[0mself\u001b[0m\u001b[1;33m,\u001b[0m \u001b[1;33m*\u001b[0m\u001b[0margs\u001b[0m\u001b[1;33m,\u001b[0m \u001b[1;33m**\u001b[0m\u001b[0mkwargs\u001b[0m\u001b[1;33m)\u001b[0m\u001b[1;33m:\u001b[0m\u001b[1;33m\u001b[0m\u001b[1;33m\u001b[0m\u001b[0m\n\u001b[1;32m---> 70\u001b[1;33m         \u001b[0mself\u001b[0m\u001b[1;33m.\u001b[0m\u001b[0m_state\u001b[0m \u001b[1;33m=\u001b[0m \u001b[0mlink_to_state\u001b[0m\u001b[1;33m(\u001b[0m\u001b[0mself\u001b[0m\u001b[1;33m.\u001b[0m\u001b[0m_crnt_sct\u001b[0m\u001b[1;33m)\u001b[0m\u001b[1;33m(\u001b[0m\u001b[0mself\u001b[0m\u001b[1;33m.\u001b[0m\u001b[0m_state\u001b[0m\u001b[1;33m,\u001b[0m \u001b[1;33m*\u001b[0m\u001b[0margs\u001b[0m\u001b[1;33m,\u001b[0m \u001b[1;33m**\u001b[0m\u001b[0mkwargs\u001b[0m\u001b[1;33m)\u001b[0m\u001b[1;33m\u001b[0m\u001b[1;33m\u001b[0m\u001b[0m\n\u001b[0m\u001b[0;32m     71\u001b[0m         \u001b[0mself\u001b[0m\u001b[1;33m.\u001b[0m\u001b[0m_waiting_on_call\u001b[0m \u001b[1;33m=\u001b[0m \u001b[1;32mFalse\u001b[0m\u001b[1;33m\u001b[0m\u001b[1;33m\u001b[0m\u001b[0m\n\u001b[0;32m     72\u001b[0m         \u001b[1;32mreturn\u001b[0m \u001b[0mself\u001b[0m\u001b[1;33m\u001b[0m\u001b[1;33m\u001b[0m\u001b[0m\n",
      "\u001b[1;32m~\\Anaconda3\\lib\\site-packages\\protowhat\\sct_syntax.py\u001b[0m in \u001b[0;36mwrapper\u001b[1;34m(state, *args, **kwargs)\u001b[0m\n\u001b[0;32m     25\u001b[0m     \u001b[1;33m@\u001b[0m\u001b[0mwraps\u001b[0m\u001b[1;33m(\u001b[0m\u001b[0mcheck\u001b[0m\u001b[1;33m)\u001b[0m\u001b[1;33m\u001b[0m\u001b[1;33m\u001b[0m\u001b[0m\n\u001b[0;32m     26\u001b[0m     \u001b[1;32mdef\u001b[0m \u001b[0mwrapper\u001b[0m\u001b[1;33m(\u001b[0m\u001b[0mstate\u001b[0m\u001b[1;33m,\u001b[0m \u001b[1;33m*\u001b[0m\u001b[0margs\u001b[0m\u001b[1;33m,\u001b[0m \u001b[1;33m**\u001b[0m\u001b[0mkwargs\u001b[0m\u001b[1;33m)\u001b[0m\u001b[1;33m:\u001b[0m\u001b[1;33m\u001b[0m\u001b[1;33m\u001b[0m\u001b[0m\n\u001b[1;32m---> 27\u001b[1;33m         \u001b[0mnew_state\u001b[0m \u001b[1;33m=\u001b[0m \u001b[0mcheck\u001b[0m\u001b[1;33m(\u001b[0m\u001b[0mstate\u001b[0m\u001b[1;33m,\u001b[0m \u001b[1;33m*\u001b[0m\u001b[0margs\u001b[0m\u001b[1;33m,\u001b[0m \u001b[1;33m**\u001b[0m\u001b[0mkwargs\u001b[0m\u001b[1;33m)\u001b[0m\u001b[1;33m\u001b[0m\u001b[1;33m\u001b[0m\u001b[0m\n\u001b[0m\u001b[0;32m     28\u001b[0m         if (\n\u001b[0;32m     29\u001b[0m             \u001b[0mnew_state\u001b[0m \u001b[1;33m!=\u001b[0m \u001b[0mstate\u001b[0m\u001b[1;33m\u001b[0m\u001b[1;33m\u001b[0m\u001b[0m\n",
      "\u001b[1;32m~\\Anaconda3\\lib\\site-packages\\pythonwhat\\checks\\has_funcs.py\u001b[0m in \u001b[0;36mhas_output\u001b[1;34m(state, text, pattern, no_output_msg)\u001b[0m\n\u001b[0;32m    573\u001b[0m \u001b[1;33m\u001b[0m\u001b[0m\n\u001b[0;32m    574\u001b[0m     \u001b[0m_msg\u001b[0m \u001b[1;33m=\u001b[0m \u001b[0mstate\u001b[0m\u001b[1;33m.\u001b[0m\u001b[0mbuild_message\u001b[0m\u001b[1;33m(\u001b[0m\u001b[0mno_output_msg\u001b[0m\u001b[1;33m)\u001b[0m\u001b[1;33m\u001b[0m\u001b[1;33m\u001b[0m\u001b[0m\n\u001b[1;32m--> 575\u001b[1;33m     \u001b[0mstate\u001b[0m\u001b[1;33m.\u001b[0m\u001b[0mdo_test\u001b[0m\u001b[1;33m(\u001b[0m\u001b[0mStringContainsTest\u001b[0m\u001b[1;33m(\u001b[0m\u001b[0mstate\u001b[0m\u001b[1;33m.\u001b[0m\u001b[0mraw_student_output\u001b[0m\u001b[1;33m,\u001b[0m \u001b[0mtext\u001b[0m\u001b[1;33m,\u001b[0m \u001b[0mpattern\u001b[0m\u001b[1;33m,\u001b[0m \u001b[0m_msg\u001b[0m\u001b[1;33m)\u001b[0m\u001b[1;33m)\u001b[0m\u001b[1;33m\u001b[0m\u001b[1;33m\u001b[0m\u001b[0m\n\u001b[0m\u001b[0;32m    576\u001b[0m \u001b[1;33m\u001b[0m\u001b[0m\n\u001b[0;32m    577\u001b[0m     \u001b[1;32mreturn\u001b[0m \u001b[0mstate\u001b[0m\u001b[1;33m\u001b[0m\u001b[1;33m\u001b[0m\u001b[0m\n",
      "\u001b[1;32m~\\Anaconda3\\lib\\site-packages\\protowhat\\State.py\u001b[0m in \u001b[0;36mdo_test\u001b[1;34m(self, test)\u001b[0m\n\u001b[0;32m    148\u001b[0m                 \u001b[0msetattr\u001b[0m\u001b[1;33m(\u001b[0m\u001b[0mself\u001b[0m\u001b[1;33m,\u001b[0m \u001b[1;34m\"debug\"\u001b[0m\u001b[1;33m,\u001b[0m \u001b[1;32mFalse\u001b[0m\u001b[1;33m)\u001b[0m  \u001b[1;31m# prevent loop\u001b[0m\u001b[1;33m\u001b[0m\u001b[1;33m\u001b[0m\u001b[0m\n\u001b[0;32m    149\u001b[0m                 \u001b[0m_debug\u001b[0m\u001b[1;33m(\u001b[0m\u001b[0mself\u001b[0m\u001b[1;33m)\u001b[0m\u001b[1;33m\u001b[0m\u001b[1;33m\u001b[0m\u001b[0m\n\u001b[1;32m--> 150\u001b[1;33m             \u001b[1;32mraise\u001b[0m \u001b[0mTestFail\u001b[0m\u001b[1;33m(\u001b[0m\u001b[0mfeedback\u001b[0m\u001b[1;33m,\u001b[0m \u001b[0mself\u001b[0m\u001b[1;33m.\u001b[0m\u001b[0mreporter\u001b[0m\u001b[1;33m.\u001b[0m\u001b[0mbuild_failed_payload\u001b[0m\u001b[1;33m(\u001b[0m\u001b[0mfeedback\u001b[0m\u001b[1;33m)\u001b[0m\u001b[1;33m)\u001b[0m\u001b[1;33m\u001b[0m\u001b[1;33m\u001b[0m\u001b[0m\n\u001b[0m\u001b[0;32m    151\u001b[0m         \u001b[1;32mreturn\u001b[0m \u001b[0mresult\u001b[0m\u001b[1;33m,\u001b[0m \u001b[0mfeedback\u001b[0m\u001b[1;33m\u001b[0m\u001b[1;33m\u001b[0m\u001b[0m\n\u001b[0;32m    152\u001b[0m \u001b[1;33m\u001b[0m\u001b[0m\n",
      "\u001b[1;31mTestFail\u001b[0m: You did not output the correct things."
     ]
    }
   ],
   "source": [
    "Ex().has_output(r'[H|h]i,\\s+my name is \\w+')"
   ]
  },
  {
   "cell_type": "code",
   "execution_count": null,
   "metadata": {},
   "outputs": [],
   "source": []
  }
 ],
 "metadata": {
  "kernelspec": {
   "display_name": "Python 3",
   "language": "python",
   "name": "python3"
  },
  "language_info": {
   "codemirror_mode": {
    "name": "ipython",
    "version": 3
   },
   "file_extension": ".py",
   "mimetype": "text/x-python",
   "name": "python",
   "nbconvert_exporter": "python",
   "pygments_lexer": "ipython3",
   "version": "3.7.1"
  }
 },
 "nbformat": 4,
 "nbformat_minor": 2
}
